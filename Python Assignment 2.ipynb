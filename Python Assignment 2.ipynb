{
 "cells": [
  {
   "cell_type": "markdown",
   "id": "1ed22a50",
   "metadata": {},
   "source": [
    "1. What are the two values of the Boolean data type? How do you write them?\n",
    "Answer-->\n",
    "True(1) and false(0) are the two values of the Boolean data type.They are written as True and False"
   ]
  },
  {
   "cell_type": "markdown",
   "id": "b07f0c90",
   "metadata": {},
   "source": [
    "2. What are the three different types of Boolean operators?\n",
    "Answer-->The three different types of Boolean operators:\n",
    "1) and\n",
    "2) or\n",
    "3) not"
   ]
  },
  {
   "cell_type": "markdown",
   "id": "338f0d37",
   "metadata": {},
   "source": [
    "3. Make a list of each Boolean operator's truth tables (i.e. every possible combination of Boolean values for the operator and what it evaluate ).\n",
    "Answer--> \n",
    "True and False  >>> False\n",
    "False and True  >>> False\n",
    "False and False >>> False\n",
    "True and True   >>> True\n",
    "\n",
    "True or False   >>> True\n",
    "False or True   >>> True\n",
    "True or True    >>> True\n",
    "False or False  >>> False\n",
    "\n",
    "Not True        >>> False\n",
    "Not False       >>> True"
   ]
  },
  {
   "cell_type": "markdown",
   "id": "a8dd6515",
   "metadata": {},
   "source": [
    "4. What are the values of the following expressions?\n",
    "(5 > 4) and (3 == 5)\n",
    "not (5 > 4)\n",
    "(5 > 4) or (3 == 5)\n",
    "not ((5 > 4) or (3 == 5))\n",
    "(True and True) and (True == False)\n",
    "(not False) or (not True)\n",
    "Answer--> \n",
    "False\n",
    "False\n",
    "True\n",
    "False\n",
    "False\n",
    "True"
   ]
  },
  {
   "cell_type": "markdown",
   "id": "0557f86f",
   "metadata": {},
   "source": [
    "5. What are the six comparison operators?\n",
    "Answer -->\n",
    "== (equal to)\n",
    ">  (greater than)\n",
    "<  (smaller than)\n",
    ">= (greater than or equal to)\n",
    "<= (smaller than or equal to)\n",
    "!= (not equal to)"
   ]
  },
  {
   "cell_type": "markdown",
   "id": "1194ff71",
   "metadata": {},
   "source": [
    "6. How do you tell the difference between the equal to and assignment operators? Describe a condition and when you would use one.\n",
    "Answer --> \n",
    "= ---> The assignment operator\n",
    "== ---> The equal to operator\n",
    "The assignment operator can be used when you want to assign a value to a variable\n",
    "x = 5\n",
    "The equal to operator compares two values and answers in a boolean value,it can be used in an if-else statement.\n",
    "if x == 5 :\n",
    "    print(x)"
   ]
  },
  {
   "cell_type": "markdown",
   "id": "64497f9c",
   "metadata": {},
   "source": [
    "7. Identify the three blocks in this code:\n",
    "spam = 0\n",
    "if spam == 10:\n",
    "print('eggs')\n",
    "if spam > 5:\n",
    "print('bacon')\n",
    "else:\n",
    "print('ham')\n",
    "print('spam')\n",
    "print('spam')\n"
   ]
  },
  {
   "cell_type": "code",
   "execution_count": null,
   "id": "7b2ad9c7",
   "metadata": {},
   "outputs": [],
   "source": [
    "#Answer-->\n",
    "#There is no space before print statements inside if-else conditions,\n",
    "spam = 0\n",
    "if spam == 10:\n",
    "    print('eggs')\n",
    "if spam > 5:\n",
    "    print('bacon')\n",
    "else:\n",
    "    print('ham')\n",
    "    print('spam')\n",
    "    print('spam')"
   ]
  },
  {
   "cell_type": "code",
   "execution_count": null,
   "id": "d8618bcd",
   "metadata": {},
   "outputs": [],
   "source": [
    "#8. Write code that prints Hello if 1 is stored in spam, prints Howdy if 2 is stored in spam, and prints Greetings! if anything else is stored in spam.\n",
    "spam = int(input('Enter a number: '))\n",
    "if spam == 1:\n",
    "    print('Hello')\n",
    "elif spam == 2:\n",
    "    print('Howdy')\n",
    "else:\n",
    "    print('Greetings!')"
   ]
  },
  {
   "cell_type": "markdown",
   "id": "06c0231a",
   "metadata": {},
   "source": [
    "9. If your programme is stuck in an endless loop, what keys you’ll press?\n",
    "Answer -->\n",
    "If programme is stuck in an endless loop press Ctrl + C"
   ]
  },
  {
   "cell_type": "markdown",
   "id": "5da2f7a3",
   "metadata": {},
   "source": [
    "10. How can you tell the difference between break and continue?\n",
    "Break statement stops the execution of remaining iteration of loop and Continue statement will stop only the current iteration of loop."
   ]
  },
  {
   "cell_type": "code",
   "execution_count": 10,
   "id": "2641d5b7",
   "metadata": {},
   "outputs": [
    {
     "name": "stdout",
     "output_type": "stream",
     "text": [
      "0\n",
      "1\n",
      "2\n",
      "3\n",
      "4\n",
      "5\n",
      "6\n",
      "7\n",
      "8\n",
      "9\n",
      "---------\n",
      "0\n",
      "1\n",
      "2\n",
      "3\n",
      "4\n",
      "5\n",
      "6\n",
      "7\n",
      "8\n",
      "9\n",
      "---------\n",
      "0\n",
      "1\n",
      "2\n",
      "3\n",
      "4\n",
      "5\n",
      "6\n",
      "7\n",
      "8\n",
      "9\n"
     ]
    }
   ],
   "source": [
    "#11. In a for loop, what is the difference between range(10), range(0, 10), and range(0, 10, 1)?\n",
    "#Answer -->\n",
    "#There is no difference, for example-\n",
    "x = '0123456789'\n",
    "for i in range(10):\n",
    "    print(x[i])\n",
    "print('---------')\n",
    "x = '0123456789'\n",
    "for i in range(0,10):\n",
    "    print(x[i])\n",
    "print('---------')\n",
    "x = '0123456789'\n",
    "for i in range(0,10,1):\n",
    "    print(x[i])"
   ]
  },
  {
   "cell_type": "code",
   "execution_count": 14,
   "id": "a910f842",
   "metadata": {},
   "outputs": [
    {
     "name": "stdout",
     "output_type": "stream",
     "text": [
      "1\n",
      "2\n",
      "3\n",
      "4\n",
      "5\n",
      "6\n",
      "7\n",
      "8\n",
      "9\n",
      "10\n",
      "---------\n",
      "1\n",
      "2\n",
      "3\n",
      "4\n",
      "5\n",
      "6\n",
      "7\n",
      "8\n",
      "9\n",
      "10\n"
     ]
    }
   ],
   "source": [
    "#12. Write a short program that prints the numbers 1 to 10 using a for loop. Then write an equivalent program that prints the numbers 1 to 10 using a while loop.\n",
    "for i in range(1,11):\n",
    "    print(i)\n",
    "print('---------')\n",
    "x = 1\n",
    "while x <= 10:\n",
    "    print(x)\n",
    "    x = 1 + x"
   ]
  },
  {
   "cell_type": "markdown",
   "id": "e304fdfc",
   "metadata": {},
   "source": [
    "13. If you had a function named bacon() inside a module named spam, how would you call it after\n",
    "importing spam?\n",
    "Answer-->\n",
    "spam.bacon()"
   ]
  }
 ],
 "metadata": {
  "kernelspec": {
   "display_name": "Python 3 (ipykernel)",
   "language": "python",
   "name": "python3"
  },
  "language_info": {
   "codemirror_mode": {
    "name": "ipython",
    "version": 3
   },
   "file_extension": ".py",
   "mimetype": "text/x-python",
   "name": "python",
   "nbconvert_exporter": "python",
   "pygments_lexer": "ipython3",
   "version": "3.9.12"
  }
 },
 "nbformat": 4,
 "nbformat_minor": 5
}
