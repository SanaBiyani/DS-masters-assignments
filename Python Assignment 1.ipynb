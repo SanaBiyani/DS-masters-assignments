{
 "cells": [
  {
   "cell_type": "markdown",
   "id": "21cedff0",
   "metadata": {},
   "source": [
    "1. In the below elements which of them are values or an expression? eg:- values can be\n",
    "integer or string and expressions will be mathematical operators.\n",
    "*\n",
    "&#39;hello&#39;\n",
    "-87.8\n",
    "-\n",
    "/\n",
    "+\n",
    "6\n",
    "Answer--> Values: 'hello',-87.8,6\n",
    "          Expressions: *,-,/,+"
   ]
  },
  {
   "cell_type": "markdown",
   "id": "c120c2fa",
   "metadata": {},
   "source": [
    "2. What is the difference between string and variable?\n",
    "Answer-->Variable is a place created on random acess memory to store data for execution while string is a type of data that is stored in the variable and it is enclosed within quotation marks.\n",
    "For example:xyz = 'happy'\n",
    "            here xyz is the variable and 'happy' is the string"
   ]
  },
  {
   "cell_type": "markdown",
   "id": "f9f9770a",
   "metadata": {},
   "source": [
    "3. Describe three different data types.\n",
    "Answer-->String: String is a combination of characters and it is enclosed in quotation marks.\n",
    "         Example:'Happy345'\n",
    "         Float: This data type includes numbers with a decimal point. \n",
    "         Example: 89.98\n",
    "         Complex: This data type incldes two values the real number part and the imaginary number part which is denoted by j\n",
    "         Example: 50 + 9J"
   ]
  },
  {
   "cell_type": "markdown",
   "id": "e64e5cb7",
   "metadata": {},
   "source": [
    "4. What is an expression made up of? What do all expressions do?\n",
    "Answer-->An expression is made up of varibles,constant terms, operators(*,/,+,-),function calls(like type()).It produces some            kind of result once it is interpreted."
   ]
  },
  {
   "cell_type": "markdown",
   "id": "8fcf9895",
   "metadata": {},
   "source": [
    "5. This assignment statements, like spam = 10. What is the difference between an expression and a statement?\n",
    "Answer--> An expression produces some kind of result once it is interpreted on the other hand assignment statements produce no           output."
   ]
  },
  {
   "cell_type": "markdown",
   "id": "3a912ec5",
   "metadata": {},
   "source": [
    "6. After running the following code, what does the variable bacon contain?\n",
    "bacon = 22\n",
    "bacon + 1\n",
    "Answer--> The variable bacon contains 23"
   ]
  },
  {
   "cell_type": "markdown",
   "id": "32ac60fc",
   "metadata": {},
   "source": [
    "7. What should the values of the following two terms be?\n",
    "'spam' + 'spamspam'\n",
    "'spam' * 3\n",
    "Answer--> The output will be 'spamspamspam' in both the given terms"
   ]
  },
  {
   "cell_type": "markdown",
   "id": "5eabb4ab",
   "metadata": {},
   "source": [
    "8. Why is eggs a valid variable name while 100 is invalid?\n",
    "Answer--> It is so because variable names cannot start with numbers so naturally 100 which is a number is invalid also variables can only contain underscores and alphanumerics."
   ]
  },
  {
   "cell_type": "markdown",
   "id": "01da33bf",
   "metadata": {},
   "source": [
    "9. What three functions can be used to get the integer, floating-point number, or string\n",
    "version of a value?\n",
    "Answer-->let x be value\n",
    "         x = 10\n",
    "         To get Integer version\n",
    "         int(x)\n",
    "         To get float-point number version\n",
    "         float(x)\n",
    "         To get string version\n",
    "         str(x)"
   ]
  },
  {
   "cell_type": "markdown",
   "id": "652b7f95",
   "metadata": {},
   "source": [
    "10. Why does this expression cause an error? How can you fix it?\n",
    "'I have eaten' + 99 + 'burritos'\n",
    "Answer--> It causes an error because strings can be concatenated to strings only not integers\n",
    "'fixed expression is :''I have eaten ' + str(99) + ' burritos'\n"
   ]
  },
  {
   "cell_type": "code",
   "execution_count": null,
   "id": "d4578c7c",
   "metadata": {},
   "outputs": [],
   "source": []
  }
 ],
 "metadata": {
  "kernelspec": {
   "display_name": "Python 3 (ipykernel)",
   "language": "python",
   "name": "python3"
  },
  "language_info": {
   "codemirror_mode": {
    "name": "ipython",
    "version": 3
   },
   "file_extension": ".py",
   "mimetype": "text/x-python",
   "name": "python",
   "nbconvert_exporter": "python",
   "pygments_lexer": "ipython3",
   "version": "3.9.12"
  }
 },
 "nbformat": 4,
 "nbformat_minor": 5
}
