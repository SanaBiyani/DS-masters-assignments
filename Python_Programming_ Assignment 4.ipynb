{
 "cells": [
  {
   "cell_type": "code",
   "execution_count": 8,
   "id": "9bda31b1",
   "metadata": {},
   "outputs": [
    {
     "name": "stdout",
     "output_type": "stream",
     "text": [
      "Enter a Number: 6\n",
      "720\n"
     ]
    }
   ],
   "source": [
    "#1. Write a Python Program to Find the Factorial of a Number?\n",
    "x = int(input(\"Enter a Number: \"))\n",
    "y = x\n",
    "for i in range(1,x):\n",
    "    y = y * i\n",
    "print(y)"
   ]
  },
  {
   "cell_type": "code",
   "execution_count": 11,
   "id": "104820a7",
   "metadata": {},
   "outputs": [
    {
     "name": "stdout",
     "output_type": "stream",
     "text": [
      "Enter the number for which you want the multiplication table: 5\n",
      "Enter a number till which you want the table: 10\n",
      "5  times  1  is  5\n",
      "5  times  2  is  10\n",
      "5  times  3  is  15\n",
      "5  times  4  is  20\n",
      "5  times  5  is  25\n",
      "5  times  6  is  30\n",
      "5  times  7  is  35\n",
      "5  times  8  is  40\n",
      "5  times  9  is  45\n",
      "5  times  10  is  50\n"
     ]
    }
   ],
   "source": [
    "#2. Write a Python Program to Display the multiplication Table?\n",
    "x = int(input(\"Enter the number for which you want the multiplication table: \"))\n",
    "y = int(input(\"Enter a number till which you want the table: \"))\n",
    "for i in range(1,y+1):\n",
    "    print(x,' times ',i,' is ',x*i)"
   ]
  },
  {
   "cell_type": "code",
   "execution_count": 31,
   "id": "0ccd7780",
   "metadata": {},
   "outputs": [
    {
     "name": "stdout",
     "output_type": "stream",
     "text": [
      "Enter the number of terms: 9\n",
      "0\n",
      "1\n",
      "1\n",
      "2\n",
      "3\n",
      "5\n",
      "8\n",
      "13\n",
      "21\n"
     ]
    }
   ],
   "source": [
    "#3. Write a Python Program to Print the Fibonacci sequence?\n",
    "x = int(input(\"Enter the number of terms: \"))\n",
    "a = 0\n",
    "b= 1\n",
    "z = 2\n",
    "if x<0:\n",
    "    print('INVALID NUMBER')\n",
    "elif x== 0 or x == 1:\n",
    "    print(0)\n",
    "else:\n",
    "    print(0)\n",
    "    print(1)\n",
    "    while z < x:\n",
    "        c = a + b\n",
    "        a = b\n",
    "        b = c\n",
    "        print(b)\n",
    "        z = z + 1"
   ]
  },
  {
   "cell_type": "code",
   "execution_count": 32,
   "id": "dd2e5abf",
   "metadata": {},
   "outputs": [
    {
     "name": "stdout",
     "output_type": "stream",
     "text": [
      "Enter the number: 153\n",
      "Armstrong number\n"
     ]
    }
   ],
   "source": [
    "#4. Write a Python Program to Check Armstrong Number?\n",
    "n = int(input(\"Enter the number: \"))\n",
    "c = 0\n",
    "if n < 0:\n",
    "    print('Enter a positive number.')\n",
    "else:\n",
    "    for i in str(n):\n",
    "        c = c + int(i)**len(str(n))\n",
    "    if n == c:\n",
    "        print('Armstrong number' )\n",
    "    else:\n",
    "        print('Not armstrong number')"
   ]
  },
  {
   "cell_type": "code",
   "execution_count": 30,
   "id": "00fb992e",
   "metadata": {},
   "outputs": [
    {
     "name": "stdout",
     "output_type": "stream",
     "text": [
      "Enter the starting number: 0\n",
      "Enter the ending  number: 100\n",
      "0\n",
      "1\n",
      "2\n",
      "3\n",
      "4\n",
      "5\n",
      "6\n",
      "7\n",
      "8\n",
      "9\n"
     ]
    }
   ],
   "source": [
    "#5. Write a Python Program to Find Armstrong Number in an Interval?\n",
    "a = int(input(\"Enter the starting number: \"))\n",
    "b = int(input(\"Enter the ending  number: \"))\n",
    "for j in range(a,b):\n",
    "    if j < 0:\n",
    "        pass\n",
    "    else:\n",
    "        c = 0\n",
    "        l = len(str(j))\n",
    "        for i in str(j):\n",
    "            c = c + (int(i)**l)\n",
    "        if j == c:\n",
    "            print(j)\n",
    "        else:\n",
    "            pass"
   ]
  },
  {
   "cell_type": "code",
   "execution_count": 37,
   "id": "c0eaf8a4",
   "metadata": {},
   "outputs": [
    {
     "name": "stdout",
     "output_type": "stream",
     "text": [
      "Enter the number: 16\n",
      "136\n"
     ]
    }
   ],
   "source": [
    "#6. Write a Python Program to Find the Sum of Natural Numbers?\n",
    "n = int(input(\"Enter the number: \"))\n",
    "if n <= 0 :\n",
    "    print('Not a natural number.')\n",
    "else:\n",
    "    v = 0\n",
    "    for i in range(1,n+1):\n",
    "        v = v + i\n",
    "    print(v)"
   ]
  }
 ],
 "metadata": {
  "kernelspec": {
   "display_name": "Python 3 (ipykernel)",
   "language": "python",
   "name": "python3"
  },
  "language_info": {
   "codemirror_mode": {
    "name": "ipython",
    "version": 3
   },
   "file_extension": ".py",
   "mimetype": "text/x-python",
   "name": "python",
   "nbconvert_exporter": "python",
   "pygments_lexer": "ipython3",
   "version": "3.9.12"
  }
 },
 "nbformat": 4,
 "nbformat_minor": 5
}
