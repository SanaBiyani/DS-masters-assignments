{
 "cells": [
  {
   "cell_type": "markdown",
   "id": "2c488327",
   "metadata": {},
   "source": [
    "1. What exactly is []?\n",
    "This is a list. A list is a type of dataset, it holds a number of objects seperated by commas. "
   ]
  },
  {
   "cell_type": "code",
   "execution_count": 3,
   "id": "255498ad",
   "metadata": {},
   "outputs": [],
   "source": [
    "#2. In a list of values stored in a variable called spam, how would you assign the value 'hello' as the third value? (Assume [2, 4, 6, 8, 10] are in spam.)\n",
    "spam = [2, 4, 6, 8, 10]\n",
    "spam[2] = 'hello' #3rd value from 1\n",
    "spam= [2 ,4 ,6 ,8 ,10]\n",
    "spam[3]= 'hello' #3th value from 0"
   ]
  },
  {
   "cell_type": "markdown",
   "id": "6f6aa8fa",
   "metadata": {},
   "source": [
    "Let's pretend the spam includes the list ['a', 'b' , 'c' , 'd'] for the next three queries."
   ]
  },
  {
   "cell_type": "code",
   "execution_count": 2,
   "id": "50a78f94",
   "metadata": {},
   "outputs": [
    {
     "data": {
      "text/plain": [
       "'d'"
      ]
     },
     "execution_count": 2,
     "metadata": {},
     "output_type": "execute_result"
    }
   ],
   "source": [
    "#3. What is the value of spam[int(int('3' * 2) / 11)]?\n",
    "spam = ['a', 'b' , 'c' , 'd'] \n",
    "spam[int(int('3'* 2) / 11)]"
   ]
  },
  {
   "cell_type": "code",
   "execution_count": 3,
   "id": "41246e45",
   "metadata": {},
   "outputs": [
    {
     "data": {
      "text/plain": [
       "'d'"
      ]
     },
     "execution_count": 3,
     "metadata": {},
     "output_type": "execute_result"
    }
   ],
   "source": [
    "#4. What is the value of spam[-1]?\n",
    "spam = ['a', 'b' , 'c' , 'd'] \n",
    "spam[-1]"
   ]
  },
  {
   "cell_type": "code",
   "execution_count": 6,
   "id": "e70c081d",
   "metadata": {},
   "outputs": [
    {
     "data": {
      "text/plain": [
       "['a', 'b']"
      ]
     },
     "execution_count": 6,
     "metadata": {},
     "output_type": "execute_result"
    }
   ],
   "source": [
    "#5. What is the value of spam[:2]?\n",
    "spam = ['a', 'b' , 'c' , 'd']\n",
    "spam[:2]"
   ]
  },
  {
   "cell_type": "markdown",
   "id": "556375fb",
   "metadata": {},
   "source": [
    "Let's pretend bacon has the list [3.14,'cat' ,11, 'cat', True] for the next three questions."
   ]
  },
  {
   "cell_type": "code",
   "execution_count": 10,
   "id": "2a37030c",
   "metadata": {},
   "outputs": [
    {
     "data": {
      "text/plain": [
       "1"
      ]
     },
     "execution_count": 10,
     "metadata": {},
     "output_type": "execute_result"
    }
   ],
   "source": [
    "#6. What is the value of bacon.index('cat')?\n",
    "bacon =  [3.14,'cat' ,11, 'cat', True] \n",
    "bacon.index('cat')"
   ]
  },
  {
   "cell_type": "code",
   "execution_count": 11,
   "id": "3f05b9c4",
   "metadata": {},
   "outputs": [
    {
     "data": {
      "text/plain": [
       "[3.14, 'cat', 11, 'cat', True, 99]"
      ]
     },
     "execution_count": 11,
     "metadata": {},
     "output_type": "execute_result"
    }
   ],
   "source": [
    "#7. How does bacon.append(99) change the look of the list value in bacon?\n",
    "#Answer --> 99 becomes a part of the list value in  bacon.\n",
    "bacon.append(99)\n",
    "bacon"
   ]
  },
  {
   "cell_type": "code",
   "execution_count": 12,
   "id": "5cd0202f",
   "metadata": {},
   "outputs": [
    {
     "data": {
      "text/plain": [
       "[3.14, 11, 'cat', True, 99]"
      ]
     },
     "execution_count": 12,
     "metadata": {},
     "output_type": "execute_result"
    }
   ],
   "source": [
    "#8. How does bacon.remove('cat') change the look of the list in bacon?\n",
    "#Answer --> 'cat' is removed from the list value in bacon.\n",
    "bacon.remove('cat')\n",
    "bacon"
   ]
  },
  {
   "cell_type": "markdown",
   "id": "8b13b6e5",
   "metadata": {},
   "source": [
    "9. What are the list concatenation and list replication operators?\n",
    "Answer -->  list concatenation operator : +\n",
    "            list replication operator   : *"
   ]
  },
  {
   "cell_type": "markdown",
   "id": "c743c046",
   "metadata": {},
   "source": [
    "10. What is difference between the list methods append() and insert()?\n",
    "Answer --> append() is used to adding an element at the end of the list and insert() is used to add an element at any position in the list."
   ]
  },
  {
   "cell_type": "code",
   "execution_count": 7,
   "id": "19c9e071",
   "metadata": {},
   "outputs": [
    {
     "name": "stdout",
     "output_type": "stream",
     "text": [
      "[1, 8, 0]\n",
      "[1, 0]\n"
     ]
    }
   ],
   "source": [
    "#11. What are the two methods for removing items from a list?\n",
    "#Pop is used to remove the element at the end of the list.\n",
    "x = [1,8,0,'o']\n",
    "x.pop() \n",
    "print(x)\n",
    "#remove is used to remove an element irrespective of its position on the list.\n",
    "x.remove(8)\n",
    "print(x)"
   ]
  },
  {
   "cell_type": "code",
   "execution_count": 17,
   "id": "f8fd22a8",
   "metadata": {},
   "outputs": [
    {
     "name": "stdout",
     "output_type": "stream",
     "text": [
      "h\n",
      "o\n",
      "p\n",
      "---\n",
      "1\n",
      "7\n",
      "0\n"
     ]
    }
   ],
   "source": [
    "#12. Describe how list values and string values are identical.\n",
    "#String values and list values are both iterable means they can be converted to iterators and can be iterated over.\n",
    "y = iter('hop')\n",
    "print(next(y))\n",
    "print(next(y))\n",
    "print(next(y))\n",
    "print('---')\n",
    "x = iter([1,7,0])\n",
    "print(next(x))\n",
    "print(next(x))\n",
    "print(next(x))"
   ]
  },
  {
   "cell_type": "markdown",
   "id": "776432d4",
   "metadata": {},
   "source": [
    "13. What's the difference between tuples and lists?\n",
    "Answer --> Lists are mutable objects and tuples are not means that the content of lists can be changed but that of tuples cannot be changed."
   ]
  },
  {
   "cell_type": "code",
   "execution_count": 21,
   "id": "d026ad70",
   "metadata": {},
   "outputs": [
    {
     "data": {
      "text/plain": [
       "tuple"
      ]
     },
     "execution_count": 21,
     "metadata": {},
     "output_type": "execute_result"
    }
   ],
   "source": [
    "#14. How do you type a tuple value that only contains the integer 42?\n",
    "t = (42,)\n",
    "type(t)"
   ]
  },
  {
   "cell_type": "code",
   "execution_count": 23,
   "id": "ba53b0c2",
   "metadata": {},
   "outputs": [
    {
     "name": "stdout",
     "output_type": "stream",
     "text": [
      "List value's tuple form:  ('o', 0, 89, 'k')\n",
      "Tuple value's list form:  ['o', 0, 89, 'k']\n"
     ]
    }
   ],
   "source": [
    "#15. How do you get a list value's tuple form? How do you get a tuple value's list form?\n",
    "l = ['o',0,89,'k']\n",
    "t = tuple(l)\n",
    "print(\"List value's tuple form: \",t)\n",
    "l1 = list(t)\n",
    "print(\"Tuple value's list form: \",l1)"
   ]
  },
  {
   "cell_type": "markdown",
   "id": "37195c54",
   "metadata": {},
   "source": [
    "16. Variables that \"contain\" list values are not necessarily lists themselves. Instead, what do they contain?\n",
    "Answer --> These variables actually contain a sort of link or reference to the location of the list values in the memory."
   ]
  },
  {
   "cell_type": "code",
   "execution_count": 45,
   "id": "1cc45a7c",
   "metadata": {},
   "outputs": [
    {
     "name": "stdout",
     "output_type": "stream",
     "text": [
      "Orignal : [1, [6, '70'], 12]\n",
      "Shallow copy : [1, [6, '70'], 12]\n",
      "Deep copy : [1, [6, '70'], 12]\n",
      "After shallow copy object is changed :-\n",
      "Orignal : [1, [6, '90'], 12]\n",
      "Shallow copy : [1, [6, '90'], 12]\n",
      "Deep copy : [1, [6, '70'], 12]\n"
     ]
    }
   ],
   "source": [
    "#17. How do you distinguish between copy.copy() and copy.deepcopy()?\n",
    "o = [1,[6,'70'],12]\n",
    "#A copy made by copy.copy() is a shallow copy.Whenever any changes will be made in the copy object the orignal object will also change.On the other hand copy.deepcopy() will make a deep copy which would be independent from the orignal object. \n",
    "import copy\n",
    "cc = copy.copy(o)\n",
    "dc = copy.deepcopy(o)\n",
    "print('Orignal :' ,o)\n",
    "print('Shallow copy :',cc)\n",
    "print('Deep copy :' ,dc)\n",
    "cc[1][1] = '90'\n",
    "print('After shallow copy object is changed :-')\n",
    "print('Orignal :' ,o)\n",
    "print('Shallow copy :',cc)\n",
    "print('Deep copy :' ,dc)"
   ]
  }
 ],
 "metadata": {
  "kernelspec": {
   "display_name": "Python 3 (ipykernel)",
   "language": "python",
   "name": "python3"
  },
  "language_info": {
   "codemirror_mode": {
    "name": "ipython",
    "version": 3
   },
   "file_extension": ".py",
   "mimetype": "text/x-python",
   "name": "python",
   "nbconvert_exporter": "python",
   "pygments_lexer": "ipython3",
   "version": "3.9.12"
  }
 },
 "nbformat": 4,
 "nbformat_minor": 5
}
