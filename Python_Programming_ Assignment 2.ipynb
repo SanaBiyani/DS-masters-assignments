{
 "cells": [
  {
   "cell_type": "code",
   "execution_count": 4,
   "id": "df8eef64",
   "metadata": {},
   "outputs": [
    {
     "name": "stdout",
     "output_type": "stream",
     "text": [
      "Enter kilometers: 3\n",
      "1.8641135699999998 miles\n"
     ]
    }
   ],
   "source": [
    "#1. Write a Python program to convert kilometers to miles?\n",
    "k = int(input('Enter kilometers: '))\n",
    "print(str(k * 0.62137119),'miles')"
   ]
  },
  {
   "cell_type": "code",
   "execution_count": 5,
   "id": "c1c71d12",
   "metadata": {},
   "outputs": [
    {
     "name": "stdout",
     "output_type": "stream",
     "text": [
      "Enter °C: 2\n",
      "35.6 °F\n"
     ]
    }
   ],
   "source": [
    "#2. Write a Python program to convert Celsius to Fahrenheit?\n",
    "c = int(input('Enter °C: '))\n",
    "print(str(c * 1.8 + 32),'°F')"
   ]
  },
  {
   "cell_type": "code",
   "execution_count": 7,
   "id": "13752c66",
   "metadata": {},
   "outputs": [
    {
     "name": "stdout",
     "output_type": "stream",
     "text": [
      "Enter year: 2023\n",
      "Enter month: 5\n",
      "      May 2023\n",
      "Mo Tu We Th Fr Sa Su\n",
      " 1  2  3  4  5  6  7\n",
      " 8  9 10 11 12 13 14\n",
      "15 16 17 18 19 20 21\n",
      "22 23 24 25 26 27 28\n",
      "29 30 31\n",
      "\n"
     ]
    }
   ],
   "source": [
    "#3. Write a Python program to display calendar?\n",
    "import calendar\n",
    "y = int(input(\"Enter year: \"))\n",
    "m = int(input(\"Enter month: \"))\n",
    "print(calendar.month(y,m))"
   ]
  },
  {
   "cell_type": "code",
   "execution_count": 14,
   "id": "4eefa51a",
   "metadata": {},
   "outputs": [
    {
     "name": "stdout",
     "output_type": "stream",
     "text": [
      "Enter coefficient of x^2: 1\n",
      "Enter coefficient of x: -5\n",
      "Enter constant term: 6\n",
      "\n",
      "real and different roots \n",
      "3.0\n",
      "2.0\n"
     ]
    }
   ],
   "source": [
    "#4. Write a Python program to solve quadratic equation?\n",
    "import math\n",
    "a = int(input('Enter coefficient of x^2: '))\n",
    "b = int(input('Enter coefficient of x: '))\n",
    "c = int(input('Enter constant term: '))\n",
    "print()\n",
    "d = b * b - 4 * a * c\n",
    "val = math.sqrt(abs(d))\n",
    "\n",
    "if d > 0:\n",
    "    print(\"real and different roots \")\n",
    "    print((-b + val)/(2 * a))\n",
    "    print((-b - val)/(2 * a))\n",
    "elif d == 0:\n",
    "    print(\"real and same roots\")\n",
    "    print(-b / (2 * a))\n",
    "else:\n",
    "    print(\"Complex Roots\")\n",
    "    print(- b / (2 * a), \" + i\", val)\n",
    "    print(- b / (2 * a), \" - i\", val)"
   ]
  },
  {
   "cell_type": "code",
   "execution_count": 11,
   "id": "bb110fe0",
   "metadata": {},
   "outputs": [
    {
     "name": "stdout",
     "output_type": "stream",
     "text": [
      "The value of x before swapping :  abc\n",
      "The value of k before swapping :  efg\n",
      "---------------------------------------------\n",
      "The value of x after swapping :  efg\n",
      "The value of k after swapping :  abc\n"
     ]
    }
   ],
   "source": [
    "#5. Write a Python program to swap two variables without temp variable?\n",
    "x = 'abc'\n",
    "k = 'efg'\n",
    "print('The value of x before swapping : ',x)\n",
    "print('The value of k before swapping : ',k)\n",
    "print('---------------------------------------------')\n",
    "x,k = k,x\n",
    "print('The value of x after swapping : ',x)\n",
    "print('The value of k after swapping : ',k)"
   ]
  },
  {
   "cell_type": "code",
   "execution_count": null,
   "id": "696b387d",
   "metadata": {},
   "outputs": [],
   "source": []
  }
 ],
 "metadata": {
  "kernelspec": {
   "display_name": "Python 3 (ipykernel)",
   "language": "python",
   "name": "python3"
  },
  "language_info": {
   "codemirror_mode": {
    "name": "ipython",
    "version": 3
   },
   "file_extension": ".py",
   "mimetype": "text/x-python",
   "name": "python",
   "nbconvert_exporter": "python",
   "pygments_lexer": "ipython3",
   "version": "3.9.12"
  }
 },
 "nbformat": 4,
 "nbformat_minor": 5
}
