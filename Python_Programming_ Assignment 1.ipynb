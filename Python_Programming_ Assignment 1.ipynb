{
 "cells": [
  {
   "cell_type": "code",
   "execution_count": 1,
   "id": "f65a58d5",
   "metadata": {},
   "outputs": [
    {
     "name": "stdout",
     "output_type": "stream",
     "text": [
      "Hello Python\n"
     ]
    }
   ],
   "source": [
    "#1. Write a Python program to print 'Hello Python'?\n",
    "print('Hello Python')"
   ]
  },
  {
   "cell_type": "code",
   "execution_count": 3,
   "id": "a3101dab",
   "metadata": {},
   "outputs": [
    {
     "name": "stdout",
     "output_type": "stream",
     "text": [
      "Enter first number: 3\n",
      "Enter second number: 8\n",
      "The sum is:  11\n",
      "Enter dividend: 35\n",
      "Enter divisor: 7\n",
      "The quotient is  5.0\n"
     ]
    }
   ],
   "source": [
    "#2. Write a Python program to do arithmetical operations addition and division.?\n",
    "a = int(input('Enter first number: '))\n",
    "b  = int(input('Enter second number: '))\n",
    "print('The sum is: ',str(a + b))\n",
    "c =  int(input('Enter dividend: '))\n",
    "d =  int(input('Enter divisor: '))\n",
    "print('The quotient is ', str(c/d))\n"
   ]
  },
  {
   "cell_type": "code",
   "execution_count": 4,
   "id": "35429a8d",
   "metadata": {},
   "outputs": [
    {
     "name": "stdout",
     "output_type": "stream",
     "text": [
      "Enter the height of the triange: 3\n",
      "Enter the base of the triangle: 3\n",
      "The area of the triangle is  4.5\n"
     ]
    }
   ],
   "source": [
    "#3. Write a Python program to find the area of a triangle?\n",
    "h = int(input('Enter the height of the triange: '))\n",
    "b = int(input('Enter the base of the triangle: '))\n",
    "print('The area of the triangle is ', str(h * b * 1/2))"
   ]
  },
  {
   "cell_type": "code",
   "execution_count": 5,
   "id": "9675ecac",
   "metadata": {},
   "outputs": [
    {
     "name": "stdout",
     "output_type": "stream",
     "text": [
      "Before Swap a =  4  and b =  3\n",
      "After Swap a =  3  and b =  4\n"
     ]
    }
   ],
   "source": [
    "#4. Write a Python program to swap two variables?\n",
    "a = 4\n",
    "b = 3\n",
    "print('Before Swap a = ',str(a),' and b = ', str(b))\n",
    "c = a\n",
    "a = b\n",
    "b = c\n",
    "print('After Swap a = ',str(a),' and b = ', str(b))"
   ]
  },
  {
   "cell_type": "code",
   "execution_count": 10,
   "id": "d34beb97",
   "metadata": {},
   "outputs": [
    {
     "name": "stdout",
     "output_type": "stream",
     "text": [
      "0.48767730288233724\n"
     ]
    }
   ],
   "source": [
    "#5. Write a Python program to generate a random number?\n",
    "import random\n",
    "print(random.random())"
   ]
  },
  {
   "cell_type": "code",
   "execution_count": null,
   "id": "f8f1c496",
   "metadata": {},
   "outputs": [],
   "source": []
  }
 ],
 "metadata": {
  "kernelspec": {
   "display_name": "Python 3 (ipykernel)",
   "language": "python",
   "name": "python3"
  },
  "language_info": {
   "codemirror_mode": {
    "name": "ipython",
    "version": 3
   },
   "file_extension": ".py",
   "mimetype": "text/x-python",
   "name": "python",
   "nbconvert_exporter": "python",
   "pygments_lexer": "ipython3",
   "version": "3.9.12"
  }
 },
 "nbformat": 4,
 "nbformat_minor": 5
}
